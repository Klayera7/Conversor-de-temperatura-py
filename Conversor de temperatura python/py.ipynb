{
 "cells": [
  {
   "cell_type": "code",
   "execution_count": 2,
   "metadata": {},
   "outputs": [
    {
     "name": "stdout",
     "output_type": "stream",
     "text": [
      "Bem vindo ao conversor de temperatura\n",
      "Digite 'sair' para encerrar o programa\n",
      "A temperatura em celsius é 30.0\n",
      "A temperatura em celsius é 7.222222222222222\n",
      "A temperatura em celsius é 173.88888888888889\n",
      "A temperatura em celsius é 297.22222222222223\n",
      "Obrigado por usar o conversor\n"
     ]
    }
   ],
   "source": [
    "print(\"Bem vindo ao conversor de temperatura\")\n",
    "print(\"Digite 'sair' para encerrar o programa\")\n",
    "\n",
    "while True:\n",
    "    temperaturaFahrenheit = input(\"Digite  a temperatura\")\n",
    "    if temperaturaFahrenheit != 'sair':\n",
    "        temperaturaFahrenheit= float(temperaturaFahrenheit)\n",
    "        temperaturaCelsius = (temperaturaFahrenheit - 32) *5/9\n",
    "        print(\"A temperatura em celsius é\",temperaturaCelsius)\n",
    "    else:\n",
    "        print(\"Obrigado por usar o conversor\")\n",
    "        break\n"
   ]
  },
  {
   "cell_type": "code",
   "execution_count": null,
   "metadata": {},
   "outputs": [],
   "source": []
  }
 ],
 "metadata": {
  "kernelspec": {
   "display_name": "Python 3",
   "language": "python",
   "name": "python3"
  },
  "language_info": {
   "codemirror_mode": {
    "name": "ipython",
    "version": 3
   },
   "file_extension": ".py",
   "mimetype": "text/x-python",
   "name": "python",
   "nbconvert_exporter": "python",
   "pygments_lexer": "ipython3",
   "version": "3.12.2"
  }
 },
 "nbformat": 4,
 "nbformat_minor": 2
}
